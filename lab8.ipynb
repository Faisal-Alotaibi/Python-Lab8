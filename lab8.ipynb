{
 "cells": [
  {
   "cell_type": "markdown",
   "metadata": {},
   "source": [
    "# Lab 8\n",
    "\n",
    "## Product Class"
   ]
  },
  {
   "cell_type": "code",
   "execution_count": 34,
   "metadata": {},
   "outputs": [],
   "source": [
    "class Product:\n",
    "    def __init__(self, name, price, quantity):\n",
    "        self.name = name\n",
    "        self.price = price\n",
    "        self.quantity = quantity\n",
    "\n",
    "    def update_quantity(self, new_quantity):\n",
    "        try:\n",
    "            if new_quantity >= 0:\n",
    "                self.quantity = new_quantity\n",
    "            else:\n",
    "                raise ValueError(\"Quantity must be a non-negative number.\")\n",
    "        except ValueError as e:\n",
    "            print(f\"Error: {e}\")\n",
    "\n",
    "    def calculate_total_price(self):\n",
    "        return self.price * self.quantity\n",
    "    "
   ]
  },
  {
   "cell_type": "markdown",
   "metadata": {},
   "source": [
    "## Inventory Class\n"
   ]
  },
  {
   "cell_type": "code",
   "execution_count": 35,
   "metadata": {},
   "outputs": [],
   "source": [
    "class Inventory:\n",
    "    \n",
    "    def __init__(self):\n",
    "        self.products = {}\n",
    "\n",
    "    def add_product(self, product):\n",
    "        try:\n",
    "            if product.name in self.products:\n",
    "                raise ValueError(\"Product with the same name already exists.\")\n",
    "            else:\n",
    "                self.products[product.name] = product\n",
    "        except ValueError as e:\n",
    "            print(f\"Error: {e}\")\n",
    "\n",
    "    def update_product(self, product_name, new_quantity):\n",
    "        try:\n",
    "            if product_name in self.products:\n",
    "                self.products[product_name].update_quantity(new_quantity)\n",
    "            else:\n",
    "                raise ValueError(\"Product not found in the inventory.\")\n",
    "        except ValueError as e:\n",
    "            print(f\"Error: {e}\")\n",
    "\n",
    "    def remove_product(self, product_name):\n",
    "        try:\n",
    "            if product_name in self.products:\n",
    "                del self.products[product_name]\n",
    "            else:\n",
    "                raise ValueError(\"Product not found in the inventory.\")\n",
    "        except ValueError as e:\n",
    "            print(f\"Error: {e}\")\n",
    "\n",
    "    def calculate_total_inventory_price(self):\n",
    "        total_price = 0\n",
    "        for product in self.products.values():\n",
    "            total_price += product.calculate_total_price()\n",
    "        return total_price"
   ]
  },
  {
   "cell_type": "markdown",
   "metadata": {},
   "source": [
    "## Testing"
   ]
  },
  {
   "cell_type": "code",
   "execution_count": 36,
   "metadata": {},
   "outputs": [
    {
     "name": "stdout",
     "output_type": "stream",
     "text": [
      "Total inventory price: 1500\n"
     ]
    }
   ],
   "source": [
    "# Create three products\n",
    "product1 = Product(\"Laptop\", 1000, 5)\n",
    "product2 = Product(\"Phone\", 500, 10)\n",
    "product3 = Product(\"Tablet\", 300, 8)\n",
    "\n",
    "# Create an inventory\n",
    "inventory = Inventory()\n",
    "# Add products to the inventory\n",
    "inventory.add_product(product1)\n",
    "inventory.add_product(product2)\n",
    "inventory.add_product(product3)\n",
    "\n",
    "# Update the quantity of a product\n",
    "inventory.update_product(\"Phone\", 1)\n",
    "inventory.update_product(\"Laptop\", 1)\n",
    "inventory.update_product(\"Tablet\", 20)\n",
    "\n",
    "# Remove a product from the inventory\n",
    "inventory.remove_product(\"Tablet\")\n",
    "\n",
    "# Calculate the total price of the inventory\n",
    "total_inventory_price = inventory.calculate_total_inventory_price()\n",
    "\n",
    "print(\"Total inventory price:\", total_inventory_price)"
   ]
  }
 ],
 "metadata": {
  "kernelspec": {
   "display_name": "Python 3",
   "language": "python",
   "name": "python3"
  },
  "language_info": {
   "codemirror_mode": {
    "name": "ipython",
    "version": 3
   },
   "file_extension": ".py",
   "mimetype": "text/x-python",
   "name": "python",
   "nbconvert_exporter": "python",
   "pygments_lexer": "ipython3",
   "version": "3.11.6"
  }
 },
 "nbformat": 4,
 "nbformat_minor": 2
}
